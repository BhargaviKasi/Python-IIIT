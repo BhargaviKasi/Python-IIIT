{
 "cells": [
  {
   "cell_type": "markdown",
   "metadata": {},
   "source": [
    "## Iterators\n",
    "- Iterator is an object,implemented in for loop,comprehension,etc...\n",
    "\n",
    "### Iterable Objects\n",
    "- Strings,Lists,Dictionaries,Sets and tuples are iterable objects\n",
    "- iter() ---> Method of iterators\n",
    "- next() ---> It is used in place of loop\n",
    "### Example:\n",
    "- list1=[1,2,3,4,5,6]\n",
    "    - here \"list1\" is iterable object and elements[1,2,3,4,5,6] in list1 are iterators\n",
    "    - In dictionaries keys are used as iterators"
   ]
  },
  {
   "cell_type": "code",
   "execution_count": 6,
   "metadata": {},
   "outputs": [
    {
     "name": "stdout",
     "output_type": "stream",
     "text": [
      "1\n"
     ]
    }
   ],
   "source": [
    "list1=iter([1,2,3,4,5])\n",
    "print(next(list1))"
   ]
  },
  {
   "cell_type": "code",
   "execution_count": 10,
   "metadata": {},
   "outputs": [
    {
     "name": "stdout",
     "output_type": "stream",
     "text": [
      "1\n",
      "2\n",
      "3\n",
      "4\n",
      "5\n"
     ]
    }
   ],
   "source": [
    "list1=[1,2,3,4,5]\n",
    "iter_list1=iter(list1)\n",
    "for i in list1:\n",
    "    print(next(iter_list1))"
   ]
  },
  {
   "cell_type": "code",
   "execution_count": 11,
   "metadata": {},
   "outputs": [
    {
     "name": "stdout",
     "output_type": "stream",
     "text": [
      "p\n",
      "y\n",
      "t\n",
      "h\n",
      "o\n",
      "n\n"
     ]
    }
   ],
   "source": [
    "string=\"python\"\n",
    "it_string=iter(string)\n",
    "for i in string:\n",
    "    print(next(it_string))"
   ]
  },
  {
   "cell_type": "markdown",
   "metadata": {},
   "source": [
    "## Generators\n",
    "- Generators are iterators \n",
    "\n",
    "### Methods\n",
    "- yield ---> used to return any value"
   ]
  },
  {
   "cell_type": "code",
   "execution_count": 5,
   "metadata": {},
   "outputs": [
    {
     "name": "stdout",
     "output_type": "stream",
     "text": [
      "1\n",
      "hello\n"
     ]
    }
   ],
   "source": [
    "def generators():\n",
    "    yield 1\n",
    "    yield 'hello'\n",
    "for i in generators():\n",
    "    print(i)"
   ]
  },
  {
   "cell_type": "code",
   "execution_count": 12,
   "metadata": {},
   "outputs": [
    {
     "name": "stdout",
     "output_type": "stream",
     "text": [
      "1\n",
      "5\n",
      "4\n",
      "16\n",
      "256\n",
      "65536\n"
     ]
    }
   ],
   "source": [
    "# Function to print square of each number until it reaches upper bound \n",
    "# using generators[2^2=4,4^2=16]\n",
    "def generator_square():\n",
    "    res=2\n",
    "    while True:\n",
    "        res=res **2\n",
    "        yield res\n",
    "lb=int(input())\n",
    "ub=int(input())\n",
    "a=generator_square()\n",
    "for i in range(lb,ub):\n",
    "    print(next(a))\n",
    "    "
   ]
  },
  {
   "cell_type": "markdown",
   "metadata": {},
   "source": [
    "## Lambda\n",
    "- It creates anonymous function\n",
    "    - Syntax:[lambda parameter 1,parameter2 etc..:expression]\n",
    "- We can take any number of arguments but expression must be one\n",
    "- We can also check condition is True or False\n",
    "\n",
    "### Advantages\n",
    "- No looping and no calling functions"
   ]
  },
  {
   "cell_type": "code",
   "execution_count": 17,
   "metadata": {},
   "outputs": [
    {
     "data": {
      "text/plain": [
       "16"
      ]
     },
     "execution_count": 17,
     "metadata": {},
     "output_type": "execute_result"
    }
   ],
   "source": [
    "square=lambda x:x**2\n",
    "square(4)"
   ]
  },
  {
   "cell_type": "code",
   "execution_count": 19,
   "metadata": {},
   "outputs": [
    {
     "data": {
      "text/plain": [
       "False"
      ]
     },
     "execution_count": 19,
     "metadata": {},
     "output_type": "execute_result"
    }
   ],
   "source": [
    "a=lambda x,y:x>y\n",
    "a(2,4)"
   ]
  },
  {
   "cell_type": "markdown",
   "metadata": {},
   "source": [
    "## Higher-Order Functions\n",
    "- It takes functions as parameters\n",
    "\n",
    "### Types\n",
    "- map\n",
    "- filter\n",
    "- reduce etc...\n",
    "\n"
   ]
  },
  {
   "cell_type": "markdown",
   "metadata": {},
   "source": [
    "## Filter\n",
    "- It returns the value if it is \"True\" .\n",
    "- *Syntax: filter(function,iterable)\n",
    "    - Here \"function and iterable\" are parameters of filters"
   ]
  },
  {
   "cell_type": "code",
   "execution_count": 21,
   "metadata": {},
   "outputs": [
    {
     "name": "stdout",
     "output_type": "stream",
     "text": [
      "<filter object at 0x000000AD60ED0978>\n"
     ]
    }
   ],
   "source": [
    "def odd(o):\n",
    "    return o%2!=0\n",
    "print(filter(odd,[1,2,3,4,5]))"
   ]
  },
  {
   "cell_type": "code",
   "execution_count": 25,
   "metadata": {},
   "outputs": [
    {
     "name": "stdout",
     "output_type": "stream",
     "text": [
      "[1, 3, 5]\n"
     ]
    }
   ],
   "source": [
    "def odd(o):\n",
    "    return o%2!=0\n",
    "print(list(filter(odd,[1,2,3,4,5])))"
   ]
  },
  {
   "cell_type": "code",
   "execution_count": 28,
   "metadata": {},
   "outputs": [
    {
     "name": "stdout",
     "output_type": "stream",
     "text": [
      "['a', 'e', 'i']\n"
     ]
    }
   ],
   "source": [
    "# Take a list of characters print vowels using filters function\n",
    "list1=['a','b','c','d','e','f','g','h','i','j','k','l','m']\n",
    "def vowels(a):\n",
    "    l=['a','e','i','o','u']\n",
    "    return a in l\n",
    "print(list(filter(vowels,list1)))"
   ]
  },
  {
   "cell_type": "code",
   "execution_count": 5,
   "metadata": {},
   "outputs": [
    {
     "name": "stdout",
     "output_type": "stream",
     "text": [
      "['a', 'g', 'v', 'b']\n"
     ]
    }
   ],
   "source": [
    "# Take a list of alpha numericals print alphabets using filter function\n",
    "list1=[1,'a',5,4,3,'g','v','b',34]\n",
    "def isalphabet(a):\n",
    "    a=str(a)\n",
    "    return a.isalpha()\n",
    "print(list(filter(isalphabet,list1)))"
   ]
  },
  {
   "cell_type": "code",
   "execution_count": 6,
   "metadata": {},
   "outputs": [
    {
     "name": "stdout",
     "output_type": "stream",
     "text": [
      "['a', 'g', 'v', 'b']\n"
     ]
    }
   ],
   "source": [
    "print(list(filter(str.isalpha,['1','a','5','4','3','g','v','b','34'])))"
   ]
  },
  {
   "cell_type": "code",
   "execution_count": 12,
   "metadata": {},
   "outputs": [
    {
     "data": {
      "text/plain": [
       "['abcd', 'python', '   ']"
      ]
     },
     "execution_count": 12,
     "metadata": {},
     "output_type": "execute_result"
    }
   ],
   "source": [
    "# Take a list of string and print the strings whose length is greater than 2.\n",
    "#list1=['abcd','python','c']\n",
    "list(filter(lambda s:len(s)>2,['abcd','python','c','   ']))"
   ]
  },
  {
   "cell_type": "markdown",
   "metadata": {},
   "source": [
    "## maps()\n",
    "- *Syntax : map(function,iterable)"
   ]
  },
  {
   "cell_type": "code",
   "execution_count": 15,
   "metadata": {},
   "outputs": [
    {
     "name": "stdout",
     "output_type": "stream",
     "text": [
      "[3, 5, 7]\n"
     ]
    }
   ],
   "source": [
    "def add(list1,list2):\n",
    "    return list1+list2\n",
    "print(list(map(add,[1,2,3],[2,3,4])))"
   ]
  },
  {
   "cell_type": "markdown",
   "metadata": {},
   "source": [
    "### operator Package"
   ]
  },
  {
   "cell_type": "code",
   "execution_count": 2,
   "metadata": {},
   "outputs": [
    {
     "name": "stdout",
     "output_type": "stream",
     "text": [
      "[3, 5, 7]\n"
     ]
    }
   ],
   "source": [
    "import operator\n",
    "print(list(map(operator.add,[1,2,3],[2,3,4])))"
   ]
  },
  {
   "cell_type": "code",
   "execution_count": 3,
   "metadata": {},
   "outputs": [
    {
     "name": "stdout",
     "output_type": "stream",
     "text": [
      "['abc', 'bcd']\n"
     ]
    }
   ],
   "source": [
    "import operator\n",
    "print(list(map(operator.add,['a','b'],['bc','cd'])))"
   ]
  },
  {
   "cell_type": "code",
   "execution_count": 17,
   "metadata": {},
   "outputs": [
    {
     "name": "stdout",
     "output_type": "stream",
     "text": [
      "[4, 6, 1, 3]\n"
     ]
    }
   ],
   "source": [
    "# Task\n",
    "# Program to print the length of string in a given list using map() function\n",
    "def length(a):\n",
    "    return len(a)\n",
    "print(list(map(length,['abcd','python','c','   '])))"
   ]
  },
  {
   "cell_type": "code",
   "execution_count": null,
   "metadata": {},
   "outputs": [],
   "source": []
  }
 ],
 "metadata": {
  "kernelspec": {
   "display_name": "Python 3",
   "language": "python",
   "name": "python3"
  },
  "language_info": {
   "codemirror_mode": {
    "name": "ipython",
    "version": 3
   },
   "file_extension": ".py",
   "mimetype": "text/x-python",
   "name": "python",
   "nbconvert_exporter": "python",
   "pygments_lexer": "ipython3",
   "version": "3.7.1"
  }
 },
 "nbformat": 4,
 "nbformat_minor": 2
}
