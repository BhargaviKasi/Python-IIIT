{
 "cells": [
  {
   "cell_type": "markdown",
   "metadata": {},
   "source": [
    "## Regular Expressions\n",
    "* Syntax:import re\n",
    "### Methods in Regular Expression\n",
    "- re.findall()\n",
    "- re.search()\n",
    "- re.match()\n",
    "- re.sub()\n",
    "- re.finditer()"
   ]
  },
  {
   "cell_type": "markdown",
   "metadata": {},
   "source": [
    "- set \"[ - ]\" ----> We can insert set of or group of char,numbers etc..\n",
    "- caret \" ^ \" ---->Starts with\n",
    "- Doller \"$\" -----> Ends with\n",
    "- star \" * \" ----->Zero or more occurences\n",
    "    * [*9]\n",
    "- plus \" + \" ------> one or more Occurences\n",
    "-{ } ----->only the specified number of Occurences\n",
    "- \" | \" ------>or\n",
    "    [0-9]{9}|[+][9][1][0-9]{9}\n",
    "- \"\\\" ------>Special sequence\n",
    "- A period \".\"---->Represent a character \n",
    "    * Ex: /py.../ It will detect only 3 characters in given string(python)\n"
   ]
  },
  {
   "cell_type": "markdown",
   "metadata": {},
   "source": [
    "### Special Sequence \"\\\"\n",
    "- \\A ---> Character is at beginning\n",
    "    * \\Athe \n",
    "        * the python ->Detect\n",
    "        * python the ->it doesn't detect\n",
    "- \\b ----->Character is at beginning or ending of string\n",
    "    * \\bthe\n",
    "        * the python is the scipt language in the programmining languages pool.->It will detect all the occurences of \"the\".\n",
    "- \\d ---->Any digits\n",
    "    * \\d \n",
    "        * 12343kjkvnv99t0 ->Detect all the digits\n",
    "- \\D ---->Non-digit \n",
    "    * \\D\n",
    "        *hello 2434 jjfjdf ->Detect all non-digits including spaces\n",
    "- \\s --->Whitespace\n",
    "    * \\s->Detect only spaces\n",
    "- \\S ---->Non-Whitespace\n",
    "- \\w ----->Alphanumberic\n",
    "- \\W -----> non-alphanumeric(Ex:!@#%^*()(*&^%$#@)\n"
   ]
  },
  {
   "cell_type": "code",
   "execution_count": 4,
   "metadata": {},
   "outputs": [],
   "source": [
    "# Write a program to find the characters between \"a\" and \"l\".\n",
    "import re\n",
    "String=\"The python programming language\"\n",
    "str2=re.findall(\"[a-l]\",String)"
   ]
  },
  {
   "cell_type": "code",
   "execution_count": 5,
   "metadata": {},
   "outputs": [
    {
     "data": {
      "text/plain": [
       "['h', 'e', 'h', 'g', 'a', 'i', 'g', 'l', 'a', 'g', 'a', 'g', 'e']"
      ]
     },
     "execution_count": 5,
     "metadata": {},
     "output_type": "execute_result"
    }
   ],
   "source": [
    "str2\n"
   ]
  },
  {
   "cell_type": "code",
   "execution_count": 10,
   "metadata": {},
   "outputs": [
    {
     "name": "stdout",
     "output_type": "stream",
     "text": [
      "['6', '1', '0', '0']\n"
     ]
    }
   ],
   "source": [
    "# Write a program to find all the digits in the given string\n",
    "import re\n",
    "string=\"The cost of 6 apples is 100 Rupees\"\n",
    "str2=re.findall(\"\\d\",string)\n",
    "print(str2)"
   ]
  },
  {
   "cell_type": "code",
   "execution_count": 13,
   "metadata": {},
   "outputs": [
    {
     "name": "stdout",
     "output_type": "stream",
     "text": [
      "['T', 'h', 'e', ' ', 'c', 'o', 's', 't', ' ', 'o', 'f', ' ', ' ', 'a', 'p', 'p', 'l', 'e', 's', ' ', 'i', 's', ' ', ' ', 'R', 'u', 'p', 'e', 'e', 's']\n",
      "[' ', ' ', ' ', ' ', ' ', ' ', ' ']\n",
      "['T', 'h', 'e', 'c', 'o', 's', 't', 'o', 'f', '6', 'a', 'p', 'p', 'l', 'e', 's', 'i', 's', '1', '0', '0', 'R', 'u', 'p', 'e', 'e', 's']\n",
      "['T', 'h', 'e', 'c', 'o', 's', 't', 'o', 'f', '6', 'a', 'p', 'p', 'l', 'e', 's', 'i', 's', '1', '0', '0', 'R', 'u', 'p', 'e', 'e', 's']\n",
      "[' ', ' ', ' ', ' ', ' ', ' ', ' ']\n"
     ]
    }
   ],
   "source": [
    "# Write a program to find all the non-digits in the given string\n",
    "import re\n",
    "string=\"The cost of 6 apples is 100 Rupees\"\n",
    "str2=re.findall(\"\\D\",string)\n",
    "str3=re.findall(\"\\s\",string)\n",
    "str4=re.findall(\"\\S\",string)\n",
    "str5=re.findall(\"\\w\",string)\n",
    "str6=re.findall(\"\\W\",string)\n",
    "print(str2)\n",
    "print(str3)\n",
    "print(str4)\n",
    "print(str5)\n",
    "print(str6)"
   ]
  },
  {
   "cell_type": "code",
   "execution_count": 28,
   "metadata": {},
   "outputs": [
    {
     "name": "stdout",
     "output_type": "stream",
     "text": [
      "['progr']\n"
     ]
    }
   ],
   "source": [
    "# Write a program to print 5 characters in the 8 characters string\n",
    "string=\"programming\"\n",
    "#str2=re.findall(\"^[a-z]{5}\",string)\n",
    "str1=re.findall(\"pr...\",string)\n",
    "print(str1)\n",
    "#print(str2)"
   ]
  },
  {
   "cell_type": "code",
   "execution_count": 3,
   "metadata": {},
   "outputs": [
    {
     "name": "stdout",
     "output_type": "stream",
     "text": [
      "Enter any mobile number:912345678901\n",
      "Valid\n"
     ]
    }
   ],
   "source": [
    "###### Mobile number Validation\n",
    "# [6-9][0-9]{9}    |     [+][9][1][6-9][0-9]{9}\n",
    "import re\n",
    "def phoneNumValidator(number):\n",
    "    p='[6-9][0-9]{9}|^[+][9][1][6-9][0-9]{9}$'\n",
    "    if re.match(p,number):\n",
    "        print(\"Valid\")\n",
    "    else:\n",
    "        print(\"Invalid\")\n",
    "        \n",
    "ph=input(\"Enter any mobile number:\")\n",
    "phoneNumValidator(ph)"
   ]
  },
  {
   "cell_type": "markdown",
   "metadata": {},
   "source": [
    "## re.sub"
   ]
  },
  {
   "cell_type": "code",
   "execution_count": 5,
   "metadata": {},
   "outputs": [
    {
     "name": "stdout",
     "output_type": "stream",
     "text": [
      "This:is:a:python:program\n"
     ]
    }
   ],
   "source": [
    "# Write a program to replace  all whitespaces with colon\":\"\" in a string\n",
    "import re\n",
    "string=\"This is a python program\"\n",
    "str1=re.sub(\"\\s\",\":\",string)\n",
    "print(str1)"
   ]
  },
  {
   "cell_type": "code",
   "execution_count": 6,
   "metadata": {},
   "outputs": [
    {
     "name": "stdout",
     "output_type": "stream",
     "text": [
      "PythonProgramminglanguageandRaptorFlowchart\n"
     ]
    }
   ],
   "source": [
    "import re\n",
    "string=\" Python    Programming  language  and Raptor    Flowchart\"\n",
    "str1=re.sub(\"\\s\",\"\",string)\n",
    "print(str1)"
   ]
  },
  {
   "cell_type": "code",
   "execution_count": null,
   "metadata": {},
   "outputs": [],
   "source": []
  }
 ],
 "metadata": {
  "kernelspec": {
   "display_name": "Python 3",
   "language": "python",
   "name": "python3"
  },
  "language_info": {
   "codemirror_mode": {
    "name": "ipython",
    "version": 3
   },
   "file_extension": ".py",
   "mimetype": "text/x-python",
   "name": "python",
   "nbconvert_exporter": "python",
   "pygments_lexer": "ipython3",
   "version": "3.7.1"
  }
 },
 "nbformat": 4,
 "nbformat_minor": 2
}
