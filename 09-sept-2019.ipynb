{
 "cells": [
  {
   "cell_type": "markdown",
   "metadata": {},
   "source": [
    "### Conditional Statements"
   ]
  },
  {
   "cell_type": "markdown",
   "metadata": {},
   "source": [
    "## if statement"
   ]
  },
  {
   "cell_type": "code",
   "execution_count": 3,
   "metadata": {},
   "outputs": [
    {
     "name": "stdout",
     "output_type": "stream",
     "text": [
      "Enter marks:23\n"
     ]
    }
   ],
   "source": [
    "marks=int(input(\"Enter marks:\"))\n",
    "passing=50\n",
    "distinction=90"
   ]
  },
  {
   "cell_type": "code",
   "execution_count": 4,
   "metadata": {},
   "outputs": [
    {
     "name": "stdout",
     "output_type": "stream",
     "text": [
      "Failed\n"
     ]
    }
   ],
   "source": [
    "if marks >= distinction:\n",
    "    print(\"Dinstinction\")\n",
    "if marks>=passing and marks< distinction:\n",
    "    print(\"Pass\")\n",
    "if marks< passing:\n",
    "    print(\"Failed\")"
   ]
  },
  {
   "cell_type": "code",
   "execution_count": 6,
   "metadata": {},
   "outputs": [
    {
     "name": "stdout",
     "output_type": "stream",
     "text": [
      "It's a bad review\n"
     ]
    }
   ],
   "source": [
    "statement=\"The coffee is bad\"\n",
    "if 'bad' in statement:\n",
    "    print(\"It's a bad review\")"
   ]
  },
  {
   "cell_type": "code",
   "execution_count": 8,
   "metadata": {},
   "outputs": [],
   "source": [
    "statement=\"Iam very good\"\n",
    "if 'bad' in statement:\n",
    "    print(\"Good review\")"
   ]
  },
  {
   "cell_type": "code",
   "execution_count": 9,
   "metadata": {},
   "outputs": [
    {
     "data": {
      "text/plain": [
       "False"
      ]
     },
     "execution_count": 9,
     "metadata": {},
     "output_type": "execute_result"
    }
   ],
   "source": [
    "'z' in \"hello\""
   ]
  },
  {
   "cell_type": "code",
   "execution_count": null,
   "metadata": {},
   "outputs": [],
   "source": []
  },
  {
   "cell_type": "markdown",
   "metadata": {},
   "source": [
    "## 2)If-Else Statement"
   ]
  },
  {
   "cell_type": "code",
   "execution_count": 10,
   "metadata": {},
   "outputs": [
    {
     "name": "stdout",
     "output_type": "stream",
     "text": [
      "Enter any number:24\n",
      "Divisible by 4\n"
     ]
    }
   ],
   "source": [
    "#Check if a number is even then check divisibility with 4 and if the number is odd then check divisibility with 3\n",
    "num=int(input(\"Enter any number:\"))\n",
    "if num%2==0:\n",
    "    if num%4==0:\n",
    "        print(\"Divisible by 4\")\n",
    "    else:\n",
    "        print(\"Not divisible by 4\")\n",
    "else:\n",
    "    if num%3==0:\n",
    "        print(\"Divisible by 3\")\n",
    "    else:\n",
    "        print(\"Not divisible by 3\")"
   ]
  },
  {
   "cell_type": "code",
   "execution_count": 11,
   "metadata": {},
   "outputs": [
    {
     "name": "stdout",
     "output_type": "stream",
     "text": [
      "Enter any year:2020\n",
      "Leap year\n"
     ]
    }
   ],
   "source": [
    "#Check if the given year is leap year or Not\n",
    "year=int(input(\"Enter any year:\"))\n",
    "if year%400:\n",
    "    print(\"Leap year\")\n",
    "else:\n",
    "    if year%4==0 and year%100!=0:\n",
    "        print(\"Leap year\")\n",
    "    else:\n",
    "        print(\"Not a leap year\")"
   ]
  },
  {
   "cell_type": "code",
   "execution_count": 1,
   "metadata": {},
   "outputs": [
    {
     "name": "stdout",
     "output_type": "stream",
     "text": [
      "Enter any number:20\n",
      "Number not in given range\n"
     ]
    }
   ],
   "source": [
    "#Check if a number exists in a given range(inclusive)lb=50,ub=150\n",
    "num=int(input(\"Enter any number:\"))\n",
    "lb=50\n",
    "ub=150\n",
    "if(num>=lb and num<=ub):\n",
    "    print(\"Number in the range\")\n",
    "else:\n",
    "    print(\"Number not in given range\")"
   ]
  },
  {
   "cell_type": "code",
   "execution_count": 16,
   "metadata": {},
   "outputs": [
    {
     "name": "stdout",
     "output_type": "stream",
     "text": [
      "Enter any number:20\n",
      "20 is multiple of 10\n"
     ]
    }
   ],
   "source": [
    "#Check if a number is multiple of 10\n",
    "num=int(input(\"Enter any number:\"))\n",
    "if num%10==0:\n",
    "    print(num,\"is multiple of 10\")\n",
    "else:\n",
    "    print(num,\"is not multiple of 10\")"
   ]
  },
  {
   "cell_type": "code",
   "execution_count": 15,
   "metadata": {},
   "outputs": [
    {
     "name": "stdout",
     "output_type": "stream",
     "text": [
      "Enter any number:50\n",
      "50 Is Factor of 100\n"
     ]
    }
   ],
   "source": [
    "#Check if a number is factor of 100\n",
    "num=int(input(\"Enter any number:\"))\n",
    "if 100%num==0:\n",
    "    print(num,\"Is Factor of 100\")\n",
    "else:\n",
    "    print(num,\"is not a Factor of 100\")"
   ]
  },
  {
   "cell_type": "code",
   "execution_count": 13,
   "metadata": {},
   "outputs": [
    {
     "name": "stdout",
     "output_type": "stream",
     "text": [
      "Not Equal\n"
     ]
    }
   ],
   "source": [
    "#check is given string is equal to a number\n",
    "num=123\n",
    "st=\"hai\"\n",
    "if str(num)==st:\n",
    "    print(\"Equal\")\n",
    "else:\n",
    "    print(\"Not Equal\")"
   ]
  },
  {
   "cell_type": "code",
   "execution_count": 12,
   "metadata": {},
   "outputs": [
    {
     "name": "stdout",
     "output_type": "stream",
     "text": [
      "Enter any number:2020\n",
      "40841900.12696666\n"
     ]
    }
   ],
   "source": [
    "#Calculate the number of nano seconds in a given year(consider leap year logic)\n",
    "year=int(input(\"Enter any number:\"))\n",
    "if(year%400==0 or (year%4==0 and year%100!=0)):\n",
    "    print(366*24*60*60*(10**(1/9)))\n",
    "else:\n",
    "    print(365*24*60*60*(10**(1/9)))"
   ]
  },
  {
   "cell_type": "markdown",
   "metadata": {},
   "source": [
    "## 3) Else-if Statement"
   ]
  },
  {
   "cell_type": "code",
   "execution_count": 3,
   "metadata": {},
   "outputs": [
    {
     "name": "stdout",
     "output_type": "stream",
     "text": [
      "Enter any numbers:3\n",
      "Enter any number:34\n",
      "Enter any number:2\n",
      "B is greatest\n"
     ]
    }
   ],
   "source": [
    "# Find the Greatest of 3 numbers\n",
    "a=int(input(\"Enter any numbers:\"))\n",
    "b=int(input(\"Enter any number:\"))\n",
    "c=int(input(\"Enter any number:\"))\n",
    "if a>b and a>c:\n",
    "    print(\"A is greatest\")\n",
    "elif b>c:\n",
    "    print(\"B is greatest\")\n",
    "else:\n",
    "    print(\"C is greatest\")"
   ]
  },
  {
   "cell_type": "code",
   "execution_count": 4,
   "metadata": {},
   "outputs": [
    {
     "name": "stdout",
     "output_type": "stream",
     "text": [
      "Enter marks:34\n",
      "Fail\n"
     ]
    }
   ],
   "source": [
    "# Check the student grade based on the marks\n",
    "marks=int(input(\"Enter marks:\"))\n",
    "if(marks>90):\n",
    "    print(\"Distinction\")\n",
    "elif (marks<90 and marks>=80):\n",
    "    print(\"A Grade\")\n",
    "elif(marks<80 and marks>=70):\n",
    "    print(\"B Grade\")\n",
    "elif(marks<70 and marks>=60):\n",
    "    print(\"C Grade\")\n",
    "elif(marks<60 and marks>=50):\n",
    "    print(\"D Grade\")\n",
    "else:\n",
    "    print(\"Fail\")"
   ]
  },
  {
   "cell_type": "markdown",
   "metadata": {},
   "source": [
    "## 4) Nested if Statement"
   ]
  },
  {
   "cell_type": "code",
   "execution_count": null,
   "metadata": {},
   "outputs": [
    {
     "name": "stdout",
     "output_type": "stream",
     "text": [
      "Enter any year:2020\n"
     ]
    }
   ],
   "source": [
    "# Check year is a leap year or not\n",
    "year=int(input(\"Enter any year:\"))\n",
    "if(year%400==0):\n",
    "    print(\"Leap year\")\n",
    "else:\n",
    "    if(year%4==0 and year%100!=0):\n",
    "        print(\"Leap year\")\n",
    "    else:\n",
    "        print(\"Not Leap year\")"
   ]
  },
  {
   "cell_type": "code",
   "execution_count": 2,
   "metadata": {},
   "outputs": [
    {
     "name": "stdout",
     "output_type": "stream",
     "text": [
      "Enter any number:-4\n",
      "Negative\n"
     ]
    }
   ],
   "source": [
    "#Take an input from keyboard\n",
    "#Check the number is positive or negative or zero display\n",
    "num=int(input(\"Enter any number:\"))\n",
    "if(num==0):\n",
    "    print(\"Zero\")\n",
    "else:\n",
    "    if(num>0):\n",
    "        print(\"Positive\")\n",
    "    else:\n",
    "        print(\"Negative\")"
   ]
  },
  {
   "cell_type": "markdown",
   "metadata": {},
   "source": [
    "## Loops"
   ]
  },
  {
   "cell_type": "code",
   "execution_count": 10,
   "metadata": {},
   "outputs": [
    {
     "name": "stdout",
     "output_type": "stream",
     "text": [
      "98,97,96,95,94,93,92,91,90,89,88,87,86,85,84,83,82,81,80,79,78,77,76,75,74,73,72,71,70,69,68,67,66,65,64,63,62,61,60,59,58,57,56,55,54,53,52,51,50,"
     ]
    }
   ],
   "source": [
    "\n",
    "for i in range(98,49,-1):\n",
    "    print(i,end=\",\")\n"
   ]
  },
  {
   "cell_type": "code",
   "execution_count": 5,
   "metadata": {},
   "outputs": [
    {
     "name": "stdout",
     "output_type": "stream",
     "text": [
      "Enter any number:20\n",
      "2\n",
      "4\n",
      "6\n",
      "8\n",
      "10\n",
      "12\n",
      "14\n",
      "16\n",
      "18\n"
     ]
    }
   ],
   "source": [
    "num=int(input(\"Enter any number:\"))\n",
    "for i in range(1,num):\n",
    "    if i%2==0:\n",
    "        print(i)"
   ]
  },
  {
   "cell_type": "code",
   "execution_count": 8,
   "metadata": {},
   "outputs": [
    {
     "name": "stdout",
     "output_type": "stream",
     "text": [
      "Enter lower bound:500\n",
      "Enter upper bound:550\n",
      "500 502 504 506 508 510 512 514 516 518 520 522 524 526 528 530 532 534 536 538 540 542 544 546 548 "
     ]
    }
   ],
   "source": [
    "# Function to print the alternative value in range in the same line\n",
    "def alternate(start,end)\n",
    "lb=int(input(\"Enter lower bound:\"))\n",
    "ub=int(input(\"Enter upper bound:\"))\n",
    "for i in range(lb,ub,2):\n",
    "    print(i,end=\" \")"
   ]
  },
  {
   "cell_type": "markdown",
   "metadata": {},
   "source": [
    "## Problem Set"
   ]
  },
  {
   "cell_type": "code",
   "execution_count": null,
   "metadata": {},
   "outputs": [],
   "source": []
  },
  {
   "cell_type": "code",
   "execution_count": 3,
   "metadata": {},
   "outputs": [
    {
     "name": "stdout",
     "output_type": "stream",
     "text": [
      "Enter lower bound:1\n",
      "Enter upper bound:20\n",
      "19 17 15 13 11 9 7 5 3 1 "
     ]
    }
   ],
   "source": [
    "# Function to print the odd numbers in reverse order\n",
    "def odd(lb,ub):\n",
    "    while(ub>=lb):\n",
    "        if ub%2!=0:\n",
    "            print(ub,end=\" \")\n",
    "        ub-=1\n",
    "lb=int(input(\"Enter lower bound:\"))\n",
    "ub=int(input(\"Enter upper bound:\"))\n",
    "odd(lb,ub)\n",
    "        "
   ]
  },
  {
   "cell_type": "code",
   "execution_count": 1,
   "metadata": {},
   "outputs": [
    {
     "name": "stdout",
     "output_type": "stream",
     "text": [
      "Enter any string:hai\n",
      "i a h "
     ]
    }
   ],
   "source": [
    "# Function to print reverse of string in the same line\n",
    "def reverse(string):\n",
    "    i=len(string)-1\n",
    "    while(i>=0):\n",
    "        print(string[i],end=\" \")\n",
    "        i=i-1\n",
    "s=input(\"Enter any string:\")\n",
    "reverse(s)"
   ]
  },
  {
   "cell_type": "code",
   "execution_count": 1,
   "metadata": {},
   "outputs": [
    {
     "name": "stdout",
     "output_type": "stream",
     "text": [
      "Enter lower bound:1\n",
      "Enter upper bound:10\n",
      "55\n"
     ]
    }
   ],
   "source": [
    "#Function to calculate the sum of numbers in a range\n",
    "def sum(lb,ub):\n",
    "    s=0\n",
    "    while(lb<=ub):\n",
    "        s+=lb\n",
    "        lb+=1\n",
    "    return s\n",
    "lb=int(input(\"Enter lower bound:\"))\n",
    "ub=int(input(\"Enter upper bound:\"))\n",
    "res=sum(lb,ub)\n",
    "print(res)"
   ]
  },
  {
   "cell_type": "code",
   "execution_count": 3,
   "metadata": {},
   "outputs": [
    {
     "name": "stdout",
     "output_type": "stream",
     "text": [
      "Enter lower bound:1\n",
      "Enter upper bound:5\n",
      "3.0\n"
     ]
    }
   ],
   "source": [
    "#Function to calculate the average of a given range (1,5) -> 3\n",
    "def avg(lb,ub):\n",
    "    s=0\n",
    "    c=0\n",
    "    while(lb<=ub):\n",
    "        s+=lb\n",
    "        lb+=1\n",
    "        c+=1\n",
    "    return s/c\n",
    "lb=int(input(\"Enter lower bound:\"))\n",
    "ub=int(input(\"Enter upper bound:\"))\n",
    "res=avg(lb,ub)\n",
    "print(res)"
   ]
  },
  {
   "cell_type": "code",
   "execution_count": null,
   "metadata": {},
   "outputs": [
    {
     "name": "stdout",
     "output_type": "stream",
     "text": [
      "Enter enter any number:12\n"
     ]
    }
   ],
   "source": [
    "#Function to generate the sum of factors for a given number 12 -> 1 2 3 4 6 12\n",
    "def factor(num):\n",
    "    i=1\n",
    "    s=0\n",
    "    while(i<=num):\n",
    "        if num%i==0:\n",
    "            s+=i\n",
    "    print(s)\n",
    "num=int(input(\"Enter enter any number:\"))\n",
    "factor(num)"
   ]
  },
  {
   "cell_type": "code",
   "execution_count": 1,
   "metadata": {},
   "outputs": [
    {
     "name": "stdout",
     "output_type": "stream",
     "text": [
      "Enter lower bound: 1\n",
      "100\n"
     ]
    }
   ],
   "source": [
    "# Function to print all numbers divisible by 6 and not a factor of 100 in a range(lb,ub)inclusive\n",
    "def divisible(lb,ub):\n",
    "    while(lb<=ub):\n",
    "        if lb%6==0 and 100%lb!=0:\n",
    "            print(lb,end=\"\")\n",
    "lb=int(input(\"Enter lower bound: \"))\n",
    "ub=int(input(\"\"))"
   ]
  },
  {
   "cell_type": "code",
   "execution_count": 2,
   "metadata": {},
   "outputs": [
    {
     "name": "stdout",
     "output_type": "stream",
     "text": [
      "Enter any value:5\n",
      "Prime\n"
     ]
    }
   ],
   "source": [
    "#Function to check if a given number is Prime\n",
    "def prime(num):\n",
    "    i=2\n",
    "    c=0\n",
    "    while i<=num:\n",
    "        if num%i==0:\n",
    "            c+=1\n",
    "        i+=1\n",
    "    return c\n",
    "num=int(input(\"Enter any value:\"))\n",
    "res=prime(num)\n",
    "if res==1:\n",
    "    print(\"Prime\")\n",
    "else:\n",
    "    print(\"Non prime\")"
   ]
  },
  {
   "cell_type": "code",
   "execution_count": 3,
   "metadata": {},
   "outputs": [
    {
     "name": "stdout",
     "output_type": "stream",
     "text": [
      "Enter any value:20\n",
      "2 Prime\n",
      "3 Prime\n",
      "5 Prime\n",
      "7 Prime\n",
      "11 Prime\n",
      "13 Prime\n",
      "17 Prime\n",
      "19 Prime\n"
     ]
    }
   ],
   "source": [
    "#Function to calculate the average of first N Prime numbers\n",
    "def prime(num):\n",
    "    i=2\n",
    "    c=0\n",
    "    while i<=num:\n",
    "        if num%i==0:\n",
    "            c+=1\n",
    "        i+=1\n",
    "    return c\n",
    "num=int(input(\"Enter any value:\"))\n",
    "i=2\n",
    "while(i<=num):\n",
    "    res=prime(i)\n",
    "    if res==1:\n",
    "        print(i,\"Prime\")\n",
    "    i+=1"
   ]
  },
  {
   "cell_type": "code",
   "execution_count": 4,
   "metadata": {},
   "outputs": [
    {
     "name": "stdout",
     "output_type": "stream",
     "text": [
      "Enter any number:100\n",
      "6 perfect number\n",
      "28 perfect number\n"
     ]
    }
   ],
   "source": [
    "#Function to generate all Perfect numbers in a given range\n",
    "def isperfect(num):\n",
    "    s=0\n",
    "    for i in range(1,num):\n",
    "        if num%i==0:\n",
    "            s+=i\n",
    "    return s\n",
    "number=int(input(\"Enter any number:\"))\n",
    "for i in range(1,number):\n",
    "    res=isperfect(i)\n",
    "    if res==i:\n",
    "        print(i,\"perfect number\")"
   ]
  },
  {
   "cell_type": "code",
   "execution_count": null,
   "metadata": {},
   "outputs": [],
   "source": []
  },
  {
   "cell_type": "code",
   "execution_count": null,
   "metadata": {},
   "outputs": [],
   "source": []
  },
  {
   "cell_type": "markdown",
   "metadata": {},
   "source": [
    "## Task"
   ]
  },
  {
   "cell_type": "code",
   "execution_count": 14,
   "metadata": {},
   "outputs": [
    {
     "name": "stdout",
     "output_type": "stream",
     "text": [
      "3 Fizz\n",
      "5 Buzz\n",
      "6 Fizz\n",
      "9 Fizz\n",
      "10 Buzz\n",
      "12 Fizz\n",
      "15 FizzBuzz\n",
      "18 Fizz\n",
      "20 Buzz\n",
      "21 Fizz\n",
      "24 Fizz\n",
      "25 Buzz\n",
      "27 Fizz\n",
      "30 FizzBuzz\n",
      "33 Fizz\n",
      "35 Buzz\n",
      "36 Fizz\n",
      "39 Fizz\n",
      "40 Buzz\n",
      "42 Fizz\n",
      "45 FizzBuzz\n",
      "48 Fizz\n"
     ]
    }
   ],
   "source": [
    "#Iterate the integers from 1 to 50, for multiples of 3 print “Fizz” and for multiples of 5 print “Buzz” and for multiples of both 3 and 5 print “FizzBuzz”.\n",
    "for i in range(1,50):\n",
    "    if i%3==0 and i%5!=0:\n",
    "        print(i,\"Fizz\")\n",
    "    elif i%5==0 and i%3!=0:\n",
    "        print(i,\"Buzz\")\n",
    "    elif i%3==0 and i%5==0:\n",
    "        print(i,\"FizzBuzz\")"
   ]
  },
  {
   "cell_type": "code",
   "execution_count": null,
   "metadata": {},
   "outputs": [],
   "source": [
    "num=int(input(\"Enter any number:\"))\n",
    "i=10\n",
    "while(i<=20):\n",
    "    print(num,\"X\",i,\"=\",num*i)\n",
    "    i=i+1"
   ]
  },
  {
   "cell_type": "markdown",
   "metadata": {},
   "source": [
    "### While loop"
   ]
  },
  {
   "cell_type": "code",
   "execution_count": 2,
   "metadata": {},
   "outputs": [
    {
     "name": "stdout",
     "output_type": "stream",
     "text": [
      "1 2 3 4 5 6 7 8 9 10 "
     ]
    }
   ],
   "source": [
    "i=1\n",
    "while(i<=10):\n",
    "    print(i,end=\" \")\n",
    "    i=i+1"
   ]
  },
  {
   "cell_type": "code",
   "execution_count": 3,
   "metadata": {},
   "outputs": [
    {
     "name": "stdout",
     "output_type": "stream",
     "text": [
      "3 6 9 12 15 18 21 24 27 30 33 36 39 42 45 48 51 54 57 60 63 66 69 72 75 78 81 84 87 90 93 96 99 102 105 108 111 114 117 120 123 126 129 132 135 138 141 144 147 150 153 156 159 162 165 168 171 174 177 180 183 186 189 192 195 198 201 204 207 210 213 216 219 222 225 228 231 234 237 240 243 246 249 252 255 258 261 264 267 270 273 276 279 282 285 288 291 294 297 300 303 306 309 312 315 318 321 324 327 330 333 336 339 342 345 348 351 354 357 360 363 366 369 372 375 378 381 384 387 390 393 396 399 402 405 408 411 414 417 420 423 426 429 432 435 438 441 444 447 450 453 456 459 462 465 468 471 474 477 480 483 486 489 492 495 498 501 504 507 510 513 516 519 522 525 528 531 534 537 540 543 546 549 552 555 558 561 564 567 570 573 576 579 582 585 588 591 594 597 600 603 606 609 612 615 618 621 624 627 630 633 636 639 642 645 648 651 654 657 660 663 666 669 672 675 678 681 684 687 690 693 696 699 702 705 708 711 714 717 720 723 726 729 732 735 738 741 744 747 750 753 756 759 762 765 768 771 774 777 780 783 786 789 792 795 798 801 804 807 810 813 816 819 822 825 828 831 834 837 840 843 846 849 852 855 858 861 864 867 870 873 876 879 882 885 888 891 894 897 900 903 906 909 912 915 918 921 924 927 930 933 936 939 942 945 948 951 954 957 960 963 966 969 972 975 978 981 984 987 990 993 996 999 "
     ]
    }
   ],
   "source": [
    "i=3\n",
    "while i<=1000:\n",
    "    print(i,end=\" \")\n",
    "    i=i+3"
   ]
  },
  {
   "cell_type": "code",
   "execution_count": 4,
   "metadata": {},
   "outputs": [
    {
     "name": "stdout",
     "output_type": "stream",
     "text": [
      "99 96 93 90 87 84 81 78 75 72 69 66 63 60 57 54 51 48 45 42 39 36 33 30 27 24 21 18 15 12 9 6 3 "
     ]
    }
   ],
   "source": [
    "i=99\n",
    "while i>=3:\n",
    "    print(i,end=\" \")\n",
    "    i=i-3"
   ]
  },
  {
   "cell_type": "code",
   "execution_count": 7,
   "metadata": {},
   "outputs": [
    {
     "name": "stdout",
     "output_type": "stream",
     "text": [
      "3 6 9 12 15 18 21 24 27 30 33 36 39 42 45 48 51 54 57 60 63 66 69 72 75 78 81 84 87 90 93 96 99 "
     ]
    }
   ],
   "source": [
    "i=3\n",
    "while i<=100:\n",
    "    print(i,end=\" \")\n",
    "    i=i+3"
   ]
  },
  {
   "cell_type": "code",
   "execution_count": 9,
   "metadata": {},
   "outputs": [
    {
     "name": "stdout",
     "output_type": "stream",
     "text": [
      "Enter any string:hello\n",
      "h\n",
      "e\n",
      "l\n",
      "l\n",
      "o\n"
     ]
    }
   ],
   "source": [
    "string=input(\"Enter any string:\")\n",
    "i=0\n",
    "while(i<len(string)):\n",
    "    print(string[i])\n",
    "    i=i+1"
   ]
  },
  {
   "cell_type": "code",
   "execution_count": 12,
   "metadata": {},
   "outputs": [
    {
     "name": "stdout",
     "output_type": "stream",
     "text": [
      "Enter any num:50\n",
      "1 2 3 4 5 6 7 8 9 10 11 12 13 14 15 16 17 18 19 20 21 22 23 24 25 26 27 28 29 30 31 32 33 34 35 36 37 38 39 40 41 42 43 44 45 46 47 48 49 "
     ]
    }
   ],
   "source": [
    "# Function to print N Natural numbers by using loop\n",
    "def natural(num):\n",
    "    i=1\n",
    "    for i in range(1,num):\n",
    "        print(i,end=\" \")\n",
    "num=int(input(\"Enter any num:\"))\n",
    "natural(num)"
   ]
  },
  {
   "cell_type": "code",
   "execution_count": null,
   "metadata": {},
   "outputs": [],
   "source": []
  },
  {
   "cell_type": "markdown",
   "metadata": {},
   "source": [
    "## Task"
   ]
  },
  {
   "cell_type": "code",
   "execution_count": 3,
   "metadata": {},
   "outputs": [
    {
     "name": "stdout",
     "output_type": "stream",
     "text": [
      "Enter any num:30\n",
      "1 2 3 4 5 6 7 8 9 10 11 12 13 14 15 16 17 18 19 20 21 22 23 24 25 26 27 28 29 30 "
     ]
    }
   ],
   "source": [
    "#Print n Natural Numbers using while loop\n",
    "def natural(num):\n",
    "    i=1\n",
    "    while(i<=num):\n",
    "        print(i,end=\" \")\n",
    "        i=i+1\n",
    "num=int(input(\"Enter any num:\"))\n",
    "natural(num)"
   ]
  },
  {
   "cell_type": "code",
   "execution_count": null,
   "metadata": {},
   "outputs": [],
   "source": [
    "#Program print n number of iterations using while loop with if statement\n",
    "lb=int(input(\"Enter lower bound:\"))\n",
    "ub=int(input(\"Enter upper bound:\"))\n",
    "while(lb<=ub):\n",
    "    if lb==4:\n",
    "        break\n",
    "    print(lb,end=\" \")\n",
    "    lb+=1"
   ]
  },
  {
   "cell_type": "code",
   "execution_count": null,
   "metadata": {},
   "outputs": [],
   "source": []
  }
 ],
 "metadata": {
  "kernelspec": {
   "display_name": "Python 3",
   "language": "python",
   "name": "python3"
  },
  "language_info": {
   "codemirror_mode": {
    "name": "ipython",
    "version": 3
   },
   "file_extension": ".py",
   "mimetype": "text/x-python",
   "name": "python",
   "nbconvert_exporter": "python",
   "pygments_lexer": "ipython3",
   "version": "3.7.1"
  }
 },
 "nbformat": 4,
 "nbformat_minor": 2
}
