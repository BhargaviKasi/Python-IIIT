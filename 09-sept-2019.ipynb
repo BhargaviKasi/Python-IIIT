{
 "cells": [
  {
   "cell_type": "markdown",
   "metadata": {},
   "source": [
    "### Conditional Statements"
   ]
  },
  {
   "cell_type": "markdown",
   "metadata": {},
   "source": [
    "## if statement"
   ]
  },
  {
   "cell_type": "code",
   "execution_count": 3,
   "metadata": {},
   "outputs": [
    {
     "name": "stdout",
     "output_type": "stream",
     "text": [
      "Enter marks:23\n"
     ]
    }
   ],
   "source": [
    "marks=int(input(\"Enter marks:\"))\n",
    "passing=50\n",
    "distinction=90"
   ]
  },
  {
   "cell_type": "code",
   "execution_count": 4,
   "metadata": {},
   "outputs": [
    {
     "name": "stdout",
     "output_type": "stream",
     "text": [
      "Failed\n"
     ]
    }
   ],
   "source": [
    "if marks >= distinction:\n",
    "    print(\"Dinstinction\")\n",
    "if marks>=passing and marks< distinction:\n",
    "    print(\"Pass\")\n",
    "if marks< passing:\n",
    "    print(\"Failed\")"
   ]
  },
  {
   "cell_type": "code",
   "execution_count": 6,
   "metadata": {},
   "outputs": [
    {
     "name": "stdout",
     "output_type": "stream",
     "text": [
      "It's a bad review\n"
     ]
    }
   ],
   "source": [
    "statement=\"The coffee is bad\"\n",
    "if 'bad' in statement:\n",
    "    print(\"It's a bad review\")"
   ]
  },
  {
   "cell_type": "code",
   "execution_count": 8,
   "metadata": {},
   "outputs": [],
   "source": [
    "statement=\"Iam very good\"\n",
    "if 'bad' in statement:\n",
    "    print(\"Good review\")"
   ]
  },
  {
   "cell_type": "code",
   "execution_count": 9,
   "metadata": {},
   "outputs": [
    {
     "data": {
      "text/plain": [
       "False"
      ]
     },
     "execution_count": 9,
     "metadata": {},
     "output_type": "execute_result"
    }
   ],
   "source": [
    "'z' in \"hello\""
   ]
  },
  {
   "cell_type": "code",
   "execution_count": null,
   "metadata": {},
   "outputs": [],
   "source": []
  },
  {
   "cell_type": "markdown",
   "metadata": {},
   "source": [
    "## 2)If-Else Statement"
   ]
  },
  {
   "cell_type": "code",
   "execution_count": 10,
   "metadata": {},
   "outputs": [
    {
     "name": "stdout",
     "output_type": "stream",
     "text": [
      "Enter any number:24\n",
      "Divisible by 4\n"
     ]
    }
   ],
   "source": [
    "#Check if a number is even then check divisibility with 4 and if the number is odd then check divisibility with 3\n",
    "num=int(input(\"Enter any number:\"))\n",
    "if num%2==0:\n",
    "    if num%4==0:\n",
    "        print(\"Divisible by 4\")\n",
    "    else:\n",
    "        print(\"Not divisible by 4\")\n",
    "else:\n",
    "    if num%3==0:\n",
    "        print(\"Divisible by 3\")\n",
    "    else:\n",
    "        print(\"Not divisible by 3\")"
   ]
  },
  {
   "cell_type": "code",
   "execution_count": 11,
   "metadata": {},
   "outputs": [
    {
     "name": "stdout",
     "output_type": "stream",
     "text": [
      "Enter any year:2020\n",
      "Leap year\n"
     ]
    }
   ],
   "source": [
    "#Check if the given year is leap year or Not\n",
    "year=int(input(\"Enter any year:\"))\n",
    "if year%400:\n",
    "    print(\"Leap year\")\n",
    "else:\n",
    "    if year%4==0 and year%100!=0:\n",
    "        print(\"Leap year\")\n",
    "    else:\n",
    "        print(\"Not a leap year\")"
   ]
  },
  {
   "cell_type": "code",
   "execution_count": 1,
   "metadata": {},
   "outputs": [
    {
     "name": "stdout",
     "output_type": "stream",
     "text": [
      "Enter any number:20\n",
      "Number not in given range\n"
     ]
    }
   ],
   "source": [
    "#Check if a number exists in a given range(inclusive)lb=50,ub=150\n",
    "num=int(input(\"Enter any number:\"))\n",
    "lb=50\n",
    "ub=150\n",
    "if(num>=lb and num<=ub):\n",
    "    print(\"Number in the range\")\n",
    "else:\n",
    "    print(\"Number not in given range\")"
   ]
  },
  {
   "cell_type": "code",
   "execution_count": 16,
   "metadata": {},
   "outputs": [
    {
     "name": "stdout",
     "output_type": "stream",
     "text": [
      "Enter any number:20\n",
      "20 is multiple of 10\n"
     ]
    }
   ],
   "source": [
    "#Check if a number is multiple of 10\n",
    "num=int(input(\"Enter any number:\"))\n",
    "if num%10==0:\n",
    "    print(num,\"is multiple of 10\")\n",
    "else:\n",
    "    print(num,\"is not multiple of 10\")"
   ]
  },
  {
   "cell_type": "code",
   "execution_count": 15,
   "metadata": {},
   "outputs": [
    {
     "name": "stdout",
     "output_type": "stream",
     "text": [
      "Enter any number:50\n",
      "50 Is Factor of 100\n"
     ]
    }
   ],
   "source": [
    "#Check if a number is factor of 100\n",
    "num=int(input(\"Enter any number:\"))\n",
    "if 100%num==0:\n",
    "    print(num,\"Is Factor of 100\")\n",
    "else:\n",
    "    print(num,\"is not a Factor of 100\")"
   ]
  },
  {
   "cell_type": "code",
   "execution_count": 13,
   "metadata": {},
   "outputs": [
    {
     "name": "stdout",
     "output_type": "stream",
     "text": [
      "Not Equal\n"
     ]
    }
   ],
   "source": [
    "#check is given string is equal to a number\n",
    "num=123\n",
    "st=\"hai\"\n",
    "if str(num)==st:\n",
    "    print(\"Equal\")\n",
    "else:\n",
    "    print(\"Not Equal\")"
   ]
  },
  {
   "cell_type": "code",
   "execution_count": 12,
   "metadata": {},
   "outputs": [
    {
     "name": "stdout",
     "output_type": "stream",
     "text": [
      "Enter any number:2020\n",
      "40841900.12696666\n"
     ]
    }
   ],
   "source": [
    "#Calculate the number of nano seconds in a given year(consider leap year logic)\n",
    "year=int(input(\"Enter any number:\"))\n",
    "if(year%400==0 or (year%4==0 and year%100!=0)):\n",
    "    print(366*24*60*60*(10**(1/9)))\n",
    "else:\n",
    "    print(365*24*60*60*(10**(1/9)))"
   ]
  },
  {
   "cell_type": "markdown",
   "metadata": {},
   "source": [
    "## 3) Else-if Statement"
   ]
  },
  {
   "cell_type": "code",
   "execution_count": 3,
   "metadata": {},
   "outputs": [
    {
     "name": "stdout",
     "output_type": "stream",
     "text": [
      "Enter any numbers:3\n",
      "Enter any number:34\n",
      "Enter any number:2\n",
      "B is greatest\n"
     ]
    }
   ],
   "source": [
    "# Find the Greatest of 3 numbers\n",
    "a=int(input(\"Enter any numbers:\"))\n",
    "b=int(input(\"Enter any number:\"))\n",
    "c=int(input(\"Enter any number:\"))\n",
    "if a>b and a>c:\n",
    "    print(\"A is greatest\")\n",
    "elif b>c:\n",
    "    print(\"B is greatest\")\n",
    "else:\n",
    "    print(\"C is greatest\")"
   ]
  },
  {
   "cell_type": "code",
   "execution_count": 4,
   "metadata": {},
   "outputs": [
    {
     "name": "stdout",
     "output_type": "stream",
     "text": [
      "Enter marks:34\n",
      "Fail\n"
     ]
    }
   ],
   "source": [
    "# Check the student grade based on the marks\n",
    "marks=int(input(\"Enter marks:\"))\n",
    "if(marks>90):\n",
    "    print(\"Distinction\")\n",
    "elif (marks<90 and marks>=80):\n",
    "    print(\"A Grade\")\n",
    "elif(marks<80 and marks>=70):\n",
    "    print(\"B Grade\")\n",
    "elif(marks<70 and marks>=60):\n",
    "    print(\"C Grade\")\n",
    "elif(marks<60 and marks>=50):\n",
    "    print(\"D Grade\")\n",
    "else:\n",
    "    print(\"Fail\")"
   ]
  },
  {
   "cell_type": "markdown",
   "metadata": {},
   "source": [
    "## 4) Nested if Statement"
   ]
  },
  {
   "cell_type": "code",
   "execution_count": null,
   "metadata": {},
   "outputs": [
    {
     "name": "stdout",
     "output_type": "stream",
     "text": [
      "Enter any year:2020\n"
     ]
    }
   ],
   "source": [
    "# Check year is a leap year or not\n",
    "year=int(input(\"Enter any year:\"))\n",
    "if(year%400==0):\n",
    "    print(\"Leap year\")\n",
    "else:\n",
    "    if(year%4==0 and year%100!=0):\n",
    "        print(\"Leap year\")\n",
    "    else:\n",
    "        print(\"Not Leap year\")"
   ]
  },
  {
   "cell_type": "code",
   "execution_count": 2,
   "metadata": {},
   "outputs": [
    {
     "name": "stdout",
     "output_type": "stream",
     "text": [
      "Enter any number:-4\n",
      "Negative\n"
     ]
    }
   ],
   "source": [
    "#Take an input from keyboard\n",
    "#Check the number is positive or negative or zero display\n",
    "num=int(input(\"Enter any number:\"))\n",
    "if(num==0):\n",
    "    print(\"Zero\")\n",
    "else:\n",
    "    if(num>0):\n",
    "        print(\"Positive\")\n",
    "    else:\n",
    "        print(\"Negative\")"
   ]
  },
  {
   "cell_type": "code",
   "execution_count": null,
   "metadata": {},
   "outputs": [],
   "source": []
  },
  {
   "cell_type": "code",
   "execution_count": null,
   "metadata": {},
   "outputs": [],
   "source": [
    "\n"
   ]
  }
 ],
 "metadata": {
  "kernelspec": {
   "display_name": "Python 3",
   "language": "python",
   "name": "python3"
  },
  "language_info": {
   "codemirror_mode": {
    "name": "ipython",
    "version": 3
   },
   "file_extension": ".py",
   "mimetype": "text/x-python",
   "name": "python",
   "nbconvert_exporter": "python",
   "pygments_lexer": "ipython3",
   "version": "3.7.1"
  }
 },
 "nbformat": 4,
 "nbformat_minor": 2
}
