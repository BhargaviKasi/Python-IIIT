{
 "cells": [
  {
   "cell_type": "markdown",
   "metadata": {},
   "source": [
    "## Comprehensions\n",
    "### Comprehensions can be used in place of loops inorder to decrease the code length\n",
    "- Shorthand for loops\n",
    "\n",
    "#### Types of Comprehension\n",
    " * List comprehension\n",
    "     - Syntax- [expression for item in sequence]\n",
    "     - ex:[i**2 for i in range(1,10)]\n",
    "     \n",
    " * Dictionary comprehension\n",
    "     - Syntax-{key:value for item in sequence}\n",
    "     - ex:{i**2 for i in range(1,10)}\n",
    "     \n",
    " * set comprehension\n",
    "     - Syntax-{expression for item in sequence}\n",
    "     - ex:{i:i**2 for i in range(1,10)}"
   ]
  },
  {
   "cell_type": "markdown",
   "metadata": {},
   "source": [
    "## List comprehension using loops"
   ]
  },
  {
   "cell_type": "code",
   "execution_count": 5,
   "metadata": {},
   "outputs": [
    {
     "name": "stdout",
     "output_type": "stream",
     "text": [
      "10\n",
      "[6, 4, 7, 1, 8, 5, 0, 6, 1]\n",
      "[36, 16, 49, 1, 64, 25, 0, 36, 1]\n"
     ]
    }
   ],
   "source": [
    "import random\n",
    "n=int(input())\n",
    "l1=[]\n",
    "l2=[]\n",
    "for i in range(1,n):\n",
    "    l1.append(random.randint(0,n))\n",
    "for i in l1:\n",
    "    l2.append(i**2)\n",
    "print(l1)\n",
    "print(l2)"
   ]
  },
  {
   "cell_type": "code",
   "execution_count": 6,
   "metadata": {},
   "outputs": [
    {
     "name": "stdout",
     "output_type": "stream",
     "text": [
      "[1, 4, 9, 16, 25, 36, 49, 64, 81]\n"
     ]
    }
   ],
   "source": [
    "l1=[]\n",
    "l1=[i**2 for i in range(1,10)]\n",
    "print(l1)"
   ]
  },
  {
   "cell_type": "code",
   "execution_count": 9,
   "metadata": {},
   "outputs": [
    {
     "name": "stdout",
     "output_type": "stream",
     "text": [
      "['Students', 'from', 'cse', 'and', 'ece', 'branch', 'are', 'attending', 'for', 'mstp', 'classes']\n",
      "['Students', 'from', 'cse', 'and', 'ece', 'branch', 'are', 'attending', 'for', 'mstp', 'classes']\n"
     ]
    }
   ],
   "source": [
    "paragraph='Students from cse and ece branch are attending for mstp classes'\n",
    "list1=[]\n",
    "for i in paragraph.split(\" \"):\n",
    "    list1.append(i)\n",
    "print(list1)\n",
    "##list2=paragraph.split(\" \")\n",
    "##print(list2)\n"
   ]
  },
  {
   "cell_type": "code",
   "execution_count": 11,
   "metadata": {},
   "outputs": [
    {
     "name": "stdout",
     "output_type": "stream",
     "text": [
      "['Students', 'from', 'cse', 'and', 'ece', 'branch', 'are', 'attending', 'for', 'mstp', 'classes']\n"
     ]
    }
   ],
   "source": [
    "paragraph='Students from cse and ece branch are attending for mstp classes'\n",
    "list1=[i for i in paragraph.split(\" \")]\n",
    "print(list1)"
   ]
  },
  {
   "cell_type": "markdown",
   "metadata": {},
   "source": [
    "### List comprehension Using If Conditions\n",
    "- Syntax: [expression for item in range(1,10)if condition"
   ]
  },
  {
   "cell_type": "code",
   "execution_count": 14,
   "metadata": {},
   "outputs": [
    {
     "name": "stdout",
     "output_type": "stream",
     "text": [
      "[2, 4, 6, 8]\n",
      "[1, 3, 5, 7, 9]\n"
     ]
    }
   ],
   "source": [
    "num=[i for i in range(1,10) if i%2==0]\n",
    "num2=[i for i in range(1,10) if i%2!=0]\n",
    "print(num)\n",
    "print(num2)"
   ]
  },
  {
   "cell_type": "markdown",
   "metadata": {},
   "source": [
    "## List Comprehension using NestedIf"
   ]
  },
  {
   "cell_type": "code",
   "execution_count": 1,
   "metadata": {},
   "outputs": [
    {
     "name": "stdout",
     "output_type": "stream",
     "text": [
      "[[2, 4, 6, 8, 10, 12, 14, 16, 18, 20], [3, 6, 9, 12, 15, 18, 21, 24, 27, 30]]\n"
     ]
    }
   ],
   "source": [
    "# Write a program to generate multiplication table in given range\n",
    "l=[[i*j for j in range(1,11)] for i in range(2,4)]\n",
    "print(l)\n"
   ]
  },
  {
   "cell_type": "markdown",
   "metadata": {},
   "source": [
    "## Task\n",
    "#### Write a program to check the even numbers in a range and print the square of even numbers"
   ]
  },
  {
   "cell_type": "code",
   "execution_count": 4,
   "metadata": {},
   "outputs": [
    {
     "name": "stdout",
     "output_type": "stream",
     "text": [
      "[4, 16, 36, 64, 100, 144, 196, 256, 324]\n"
     ]
    }
   ],
   "source": [
    "l=[i**2 for i in range(1,20) if i%2==0]\n",
    "print(l)"
   ]
  },
  {
   "cell_type": "markdown",
   "metadata": {},
   "source": [
    "### List Comprehension using if else if"
   ]
  },
  {
   "cell_type": "code",
   "execution_count": 5,
   "metadata": {},
   "outputs": [
    {
     "name": "stdout",
     "output_type": "stream",
     "text": [
      "[1, 'a', 'b', 'a', 5, 'a', 7, 'a', 'b', 'a']\n"
     ]
    }
   ],
   "source": [
    "list1=[1,2,3,4,5,6,7,8,9,10]\n",
    "list2=[]\n",
    "for i in list1:\n",
    "    if i%2==0:\n",
    "        list2.append('a')\n",
    "    elif i%3==0:\n",
    "        list2.append('b')\n",
    "    else:\n",
    "        list2.append(i)\n",
    "print(list2)"
   ]
  },
  {
   "cell_type": "code",
   "execution_count": 6,
   "metadata": {},
   "outputs": [
    {
     "name": "stdout",
     "output_type": "stream",
     "text": [
      "[1, 'a', 'b', 'a', 5, 'a', 7, 'a', 'b', 'a']\n"
     ]
    }
   ],
   "source": [
    "list2=[1,2,3,4,5,6,7,8,9,10]\n",
    "list1=['a' if i%2==0 else 'b' if i%3==0 else i for i in list2]  \n",
    "print(list1)\n"
   ]
  },
  {
   "cell_type": "code",
   "execution_count": null,
   "metadata": {},
   "outputs": [],
   "source": []
  }
 ],
 "metadata": {
  "kernelspec": {
   "display_name": "Python 3",
   "language": "python",
   "name": "python3"
  },
  "language_info": {
   "codemirror_mode": {
    "name": "ipython",
    "version": 3
   },
   "file_extension": ".py",
   "mimetype": "text/x-python",
   "name": "python",
   "nbconvert_exporter": "python",
   "pygments_lexer": "ipython3",
   "version": "3.7.1"
  }
 },
 "nbformat": 4,
 "nbformat_minor": 2
}
