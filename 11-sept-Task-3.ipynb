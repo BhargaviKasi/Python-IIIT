{
 "cells": [
  {
   "cell_type": "markdown",
   "metadata": {},
   "source": [
    "## Problem - 3"
   ]
  },
  {
   "cell_type": "markdown",
   "metadata": {},
   "source": [
    "## You are given three numbers, a, b and c. \n",
    "## Write a program to find the largest number \n",
    "## which is less than or equal to c and leaves\n",
    "## remainder b when divided by a.\n",
    "* 3 2 9\n",
    "    * 9 % 3 == 0\n",
    "    * 8 % 3 == 2\n",
    "\n",
    "* 1 2 4\n",
    "    * 4 % 1 == 0\n",
    "    * 3 % 1 == 0\n",
    "    * 2 % 1 == 0\n",
    "    * 1 % 1 == 0\n",
    "    * 0 % 1 == 0\n",
    "    * -1 % 1 == 0\n"
   ]
  },
  {
   "cell_type": "code",
   "execution_count": 1,
   "metadata": {},
   "outputs": [
    {
     "name": "stdout",
     "output_type": "stream",
     "text": [
      "Enter any value:3\n",
      "Enter any value:2\n",
      "Enter any value:9\n",
      "9 % 3 == 0\n",
      "8 % 3 == 2\n"
     ]
    }
   ],
   "source": [
    "a=int(input(\"Enter any value:\"))\n",
    "b=int(input(\"Enter any value:\"))\n",
    "c=int(input(\"Enter any value:\"))\n",
    "i=c\n",
    "while i<=c:\n",
    "    if i%a==b:\n",
    "        print(i,\"%\",a,\"==\",b)\n",
    "        break\n",
    "    elif i==-1:\n",
    "        break\n",
    "    else:\n",
    "        print(i,\"%\",a,\"==\",i%a)\n",
    "    i-=1\n",
    "    "
   ]
  },
  {
   "cell_type": "code",
   "execution_count": null,
   "metadata": {},
   "outputs": [],
   "source": []
  }
 ],
 "metadata": {
  "kernelspec": {
   "display_name": "Python 3",
   "language": "python",
   "name": "python3"
  },
  "language_info": {
   "codemirror_mode": {
    "name": "ipython",
    "version": 3
   },
   "file_extension": ".py",
   "mimetype": "text/x-python",
   "name": "python",
   "nbconvert_exporter": "python",
   "pygments_lexer": "ipython3",
   "version": "3.7.1"
  }
 },
 "nbformat": 4,
 "nbformat_minor": 2
}
