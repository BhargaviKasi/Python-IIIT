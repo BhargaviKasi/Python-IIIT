{
 "cells": [
  {
   "cell_type": "markdown",
   "metadata": {},
   "source": [
    "## Hacker-earth Exam"
   ]
  },
  {
   "cell_type": "code",
   "execution_count": 1,
   "metadata": {},
   "outputs": [],
   "source": [
    "#Print 3-digits numbers Sum - For a given list of numbers, print the sum of all 3-digit numbers."
   ]
  },
  {
   "cell_type": "code",
   "execution_count": 7,
   "metadata": {},
   "outputs": [
    {
     "name": "stdout",
     "output_type": "stream",
     "text": [
      "100 200 2 445 200\n",
      "945\n"
     ]
    }
   ],
   "source": [
    "def digits(num):\n",
    "    c=0\n",
    "    while num>0:\n",
    "        num=num//10\n",
    "        c+=1\n",
    "    return c\n",
    "l=list(map(int,input().split(\" \")))\n",
    "s=0\n",
    "for i in l:\n",
    "    cnt=digits(i)\n",
    "    if cnt==3:\n",
    "        s+=i\n",
    "print(s)"
   ]
  },
  {
   "cell_type": "code",
   "execution_count": 3,
   "metadata": {},
   "outputs": [
    {
     "name": "stdout",
     "output_type": "stream",
     "text": [
      "13 200 100 2 78 150\n",
      "450\n"
     ]
    }
   ],
   "source": [
    "l=input().split(\" \")\n",
    "s=0\n",
    "for i in l:\n",
    "    if(len(i)==3):\n",
    "        s+=int(i)\n",
    "print(s)\n"
   ]
  },
  {
   "cell_type": "markdown",
   "metadata": {},
   "source": [
    "## 2.Digits Reverse\n",
    "## You are given a number. You need to print digits of the number in reverse order."
   ]
  },
  {
   "cell_type": "code",
   "execution_count": 4,
   "metadata": {},
   "outputs": [
    {
     "name": "stdout",
     "output_type": "stream",
     "text": [
      "Enter any number:123\n",
      "3\n",
      "2\n",
      "1\n"
     ]
    }
   ],
   "source": [
    "def digits(num):\n",
    "    c=0\n",
    "    while num>0:\n",
    "        r=num%10\n",
    "        print(r)\n",
    "        num=num//10\n",
    "num=int(input(\"Enter any number:\"))\n",
    "digits(num)\n",
    "#print(res)"
   ]
  },
  {
   "cell_type": "code",
   "execution_count": null,
   "metadata": {},
   "outputs": [],
   "source": [
    "n=int(input())\n",
    "rev=str(n)\n",
    "for i in rev[::-1]:\n",
    "    print(i)"
   ]
  },
  {
   "cell_type": "markdown",
   "metadata": {},
   "source": [
    "## 3.Formatted Mobile Number \n",
    "### You are given N mobile numbers.\n",
    "### Print them in the standard format shown below:\n",
    "### +91 - (XXX)-XXX-XXXX\n",
    "### The given mobile numbers may have +91,91 or 0 written before the actual 10 digit number. \n",
    "### Alternatively, there may not be any prefix at all."
   ]
  },
  {
   "cell_type": "code",
   "execution_count": 2,
   "metadata": {},
   "outputs": [
    {
     "name": "stdout",
     "output_type": "stream",
     "text": [
      "1\n",
      "08074829453\n",
      "+91-(807)-482-9453\n"
     ]
    }
   ],
   "source": [
    "t=int(input())\n",
    "for i in range(t):\n",
    "    ph=input()\n",
    "    new=ph[-10:]\n",
    "    last=\"+91\"'-('+new[0:3]+')-'+new[3:6]+'-'+new[6:]\n",
    "    print(last)"
   ]
  },
  {
   "cell_type": "code",
   "execution_count": null,
   "metadata": {},
   "outputs": [],
   "source": []
  }
 ],
 "metadata": {
  "kernelspec": {
   "display_name": "Python 3",
   "language": "python",
   "name": "python3"
  },
  "language_info": {
   "codemirror_mode": {
    "name": "ipython",
    "version": 3
   },
   "file_extension": ".py",
   "mimetype": "text/x-python",
   "name": "python",
   "nbconvert_exporter": "python",
   "pygments_lexer": "ipython3",
   "version": "3.7.1"
  }
 },
 "nbformat": 4,
 "nbformat_minor": 2
}
