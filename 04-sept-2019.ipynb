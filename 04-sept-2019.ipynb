{
 "cells": [
  {
   "cell_type": "markdown",
   "metadata": {},
   "source": [
    " # Heading\n",
    " ## Heading 2\n",
    " ### Heading 3\n",
    " \n",
    " * Noraml text\n",
    " * **Bold**\n",
    " * *Italic\n",
    " \n",
    " \n",
    " * Text\n",
    "     * sublist 1\n",
    "     * sublist 2\n",
    "     \n",
    "> 1.Ordered list1\n",
    "> 2.Ordered list 2\n",
    "\n",
    "- [ ] Option 1\n",
    "- [ ] Option 1\n",
    "- [x] option 2\n",
    "1. Ordered list\n",
    "2. Ordered list2\n",
    "\n",
    "\n",
    "\\* escape\n",
    "[link](http://gamil.com)\n",
    "\n",
    "I have 10 items [Google] [1] than from [Yahoo] [2].\n",
    "\n",
    "[1]: http://google.com/ \"Google\"\n",
    "[2]: http://search.yahoo.com/ \"Yahoo Search\"\n",
    "\n",
    "`printf(\"Hello Markdown`\n",
    "\n",
    "<http://google.com>\n",
    "\n",
    "\n",
    "[jupyter Logo](jupyter.png)\n",
    "<img src=\"jupyter.png\" height=\"50px\" width=\"500px\" style=\"float:left\">\n"
   ]
  },
  {
   "cell_type": "code",
   "execution_count": null,
   "metadata": {},
   "outputs": [],
   "source": []
  }
 ],
 "metadata": {
  "kernelspec": {
   "display_name": "Python 3",
   "language": "python",
   "name": "python3"
  },
  "language_info": {
   "codemirror_mode": {
    "name": "ipython",
    "version": 3
   },
   "file_extension": ".py",
   "mimetype": "text/x-python",
   "name": "python",
   "nbconvert_exporter": "python",
   "pygments_lexer": "ipython3",
   "version": "3.7.1"
  }
 },
 "nbformat": 4,
 "nbformat_minor": 2
}
