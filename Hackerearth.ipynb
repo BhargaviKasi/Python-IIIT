{
 "cells": [
  {
   "cell_type": "code",
   "execution_count": 6,
   "metadata": {},
   "outputs": [
    {
     "name": "stdout",
     "output_type": "stream",
     "text": [
      "Enter Test cases:2 \n",
      "Enter cost:9 6\n",
      "Enter number of persons:2\n",
      "1 1\n",
      "0 1\n",
      "Enter number of persons:2\n",
      "0 0\n",
      "1 0\n",
      "[[[1, 1], [0, 1]], [[0, 0], [1, 0]]]\n",
      "[[1, 1], [0, 1]]\n",
      "21\n",
      "[[0, 0], [1, 0]]\n",
      "6\n"
     ]
    }
   ],
   "source": [
    "def ballon_cost(cost_list,question):\n",
    "    total_cost=0\n",
    "    for i in question:\n",
    "            total_cost+=i[0]*cost_list[0]\n",
    "            total_cost+=i[1]*cost_list[1]\n",
    "    return total_cost\n",
    "t=int(input(\"Enter Test cases:\"))\n",
    "cost=list(map(int,input(\"Enter cost:\").split()))\n",
    "test_list=[]\n",
    "for i in range(t):\n",
    "    n=int(input(\"Enter number of persons:\"))\n",
    "    l=[]\n",
    "    for j in range(n):\n",
    "        q=list(map(int,input().split()))\n",
    "        l.append(q)\n",
    "    test_list.append(l)\n",
    "print(test_list)\n",
    "for i in test_list:\n",
    "    print(i)\n",
    "    res1=ballon_cost(cost,i)\n",
    "    cost=cost[::-1]\n",
    "    res2=ballon_cost(cost,i)\n",
    "    print(min(res1,res2))\n",
    "\n",
    "\n",
    "        \n",
    "    "
   ]
  },
  {
   "cell_type": "code",
   "execution_count": 1,
   "metadata": {},
   "outputs": [
    {
     "name": "stdout",
     "output_type": "stream",
     "text": [
      "Enter Test cases:2\n",
      "9 6\n",
      "Enter the number of persons:1\n",
      "1 1\n",
      "Enter the number of persons:1\n",
      "0 1\n",
      "[[[1, 1], [0, 1]], [[1, 1], [0, 1]]]\n"
     ]
    }
   ],
   "source": [
    "t=int(input(\"Enter Test cases:\"))\n",
    "cost=list(map(int,input().split()))\n",
    "l=[]\n",
    "test_list=[]\n",
    "for i in range(t):\n",
    "    n=int(input(\"Enter the number of persons:\"))\n",
    "    for j in range(n):\n",
    "        q=list(map(int,input().split()))\n",
    "        l.append(q)\n",
    "    test_list.append(l)\n",
    "print(test_list)"
   ]
  },
  {
   "cell_type": "code",
   "execution_count": 10,
   "metadata": {},
   "outputs": [
    {
     "name": "stdout",
     "output_type": "stream",
     "text": [
      "180\n",
      "5\n",
      "640 480\n",
      "120 300\n",
      "180 180\n",
      "400 400\n",
      "200 180\n",
      "CROP It\n",
      "UPLOAD ANOTHER\n",
      "ACCEPTED\n",
      "ACCEPTED\n",
      "CROP It\n"
     ]
    }
   ],
   "source": [
    "L=int(input())\n",
    "T=int(input())\n",
    "l=[]\n",
    "flag=0\n",
    "for i in range(0,T):\n",
    "    l.append(list(map(int,input().split(\" \"))))\n",
    "for i in l:\n",
    "    x,y=i[0],i[1]\n",
    "    if x==y:\n",
    "        print(\"ACCEPTED\")\n",
    "    elif (x>=L and y>=L):\n",
    "        print(\"CROP It\")\n",
    "    else:\n",
    "        print(\"UPLOAD ANOTHER\")\n",
    "        \n"
   ]
  },
  {
   "cell_type": "code",
   "execution_count": null,
   "metadata": {},
   "outputs": [],
   "source": [
    "180\n",
    "5\n",
    "640 480\n",
    "120 300\n",
    "180 180\n",
    "400 400\n",
    "200 180"
   ]
  }
 ],
 "metadata": {
  "kernelspec": {
   "display_name": "Python 3",
   "language": "python",
   "name": "python3"
  },
  "language_info": {
   "codemirror_mode": {
    "name": "ipython",
    "version": 3
   },
   "file_extension": ".py",
   "mimetype": "text/x-python",
   "name": "python",
   "nbconvert_exporter": "python",
   "pygments_lexer": "ipython3",
   "version": "3.7.1"
  }
 },
 "nbformat": 4,
 "nbformat_minor": 2
}
