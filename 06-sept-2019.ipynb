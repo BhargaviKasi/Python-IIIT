{
 "cells": [
  {
   "cell_type": "markdown",
   "metadata": {},
   "source": [
    "## Functions"
   ]
  },
  {
   "cell_type": "code",
   "execution_count": 21,
   "metadata": {},
   "outputs": [
    {
     "name": "stdout",
     "output_type": "stream",
     "text": [
      "Enter any number:2\n",
      "Enter any number:3\n",
      "5\n"
     ]
    }
   ],
   "source": [
    "# without arguments and without return values\n",
    "def add():\n",
    "    num1=int(input(\"Enter any number:\"))\n",
    "    num2=int(input(\"Enter any number:\"))\n",
    "    print(num1+num2)\n",
    "add()"
   ]
  },
  {
   "cell_type": "code",
   "execution_count": 23,
   "metadata": {},
   "outputs": [
    {
     "name": "stdout",
     "output_type": "stream",
     "text": [
      "Enter any number:2\n",
      "Enter any number:3\n",
      "6\n"
     ]
    }
   ],
   "source": [
    "def mul():\n",
    "    num1=int(input(\"Enter any number:\"))\n",
    "    num2=int(input(\"Enter any number:\"))\n",
    "    print(num1*num2)\n",
    "mul()"
   ]
  },
  {
   "cell_type": "code",
   "execution_count": 24,
   "metadata": {},
   "outputs": [
    {
     "name": "stdout",
     "output_type": "stream",
     "text": [
      "Enter any number:3\n",
      "Enter any number:8\n",
      "11\n"
     ]
    }
   ],
   "source": [
    "# Without arguments &with return values\n",
    "def add():\n",
    "    num1=int(input(\"Enter any number:\"))\n",
    "    num2=int(input(\"Enter any number:\"))\n",
    "    return num1+num2\n",
    "res=add()\n",
    "print(res)"
   ]
  },
  {
   "cell_type": "code",
   "execution_count": 25,
   "metadata": {},
   "outputs": [
    {
     "name": "stdout",
     "output_type": "stream",
     "text": [
      "Enter any number:7\n",
      "Enter any number:8\n",
      "56\n"
     ]
    }
   ],
   "source": [
    "def mul():\n",
    "    num1=int(input(\"Enter any number:\"))\n",
    "    num2=int(input(\"Enter any number:\"))\n",
    "    return num1*num2\n",
    "res=mul()\n",
    "print(res)"
   ]
  },
  {
   "cell_type": "code",
   "execution_count": 28,
   "metadata": {},
   "outputs": [
    {
     "name": "stdout",
     "output_type": "stream",
     "text": [
      "Enter any number:1\n",
      "Enter any number:2\n",
      "3\n"
     ]
    }
   ],
   "source": [
    "#With arguments & without return values\n",
    "def add(num1,num2):\n",
    "    print(num1+num2)\n",
    "num1=int(input(\"Enter any number:\"))\n",
    "num2=int(input(\"Enter any number:\"))\n",
    "add(num1,num2)"
   ]
  },
  {
   "cell_type": "code",
   "execution_count": 29,
   "metadata": {},
   "outputs": [
    {
     "name": "stdout",
     "output_type": "stream",
     "text": [
      "Enter any number:4\n",
      "Enter any number:5\n",
      "20\n"
     ]
    }
   ],
   "source": [
    "def mul(num1,num2):\n",
    "    print(num1*num2)\n",
    "num1=int(input(\"Enter any number:\"))\n",
    "num2=int(input(\"Enter any number:\"))\n",
    "mul(num1,num2)\n"
   ]
  },
  {
   "cell_type": "code",
   "execution_count": 30,
   "metadata": {},
   "outputs": [
    {
     "name": "stdout",
     "output_type": "stream",
     "text": [
      "Enter any number:6\n",
      "Enter any number:7\n",
      "13\n"
     ]
    }
   ],
   "source": [
    "#With arguments & with return values\n",
    "def add(num1,num2):\n",
    "    return num1+num2\n",
    "num1=int(input(\"Enter any number:\"))\n",
    "num2=int(input(\"Enter any number:\"))\n",
    "res=add(num1,num2)\n",
    "print(res)"
   ]
  },
  {
   "cell_type": "code",
   "execution_count": null,
   "metadata": {},
   "outputs": [],
   "source": [
    "def mul():\n",
    "    return num1*num2\n",
    "num1=int(input(\"Enter any number:\"))\n",
    "num2=int(input(\"Enter any number:\"))\n",
    "res=mul(num1,num2)\n",
    "print(res)"
   ]
  },
  {
   "cell_type": "code",
   "execution_count": 19,
   "metadata": {},
   "outputs": [
    {
     "name": "stdout",
     "output_type": "stream",
     "text": [
      "Enter any number:4\n",
      "16\n"
     ]
    }
   ],
   "source": [
    "# Function to find square of a number\n",
    "def square(num):\n",
    "    return num**2\n",
    "num=int(input(\"Enter any number:\"))\n",
    "res=square(num)\n",
    "print(res)\n"
   ]
  },
  {
   "cell_type": "code",
   "execution_count": 20,
   "metadata": {},
   "outputs": [
    {
     "name": "stdout",
     "output_type": "stream",
     "text": [
      "Enter any number:5\n",
      "120\n"
     ]
    }
   ],
   "source": [
    "def factorial(num):\n",
    "    s=1\n",
    "    while(num>=1):\n",
    "        s*=num\n",
    "        num-=1\n",
    "    print(s)\n",
    "number=int(input(\"Enter any number:\"))\n",
    "factorial(number)"
   ]
  },
  {
   "cell_type": "code",
   "execution_count": 2,
   "metadata": {},
   "outputs": [
    {
     "name": "stdout",
     "output_type": "stream",
     "text": [
      "string\n",
      "gnirts\n"
     ]
    }
   ],
   "source": [
    "def reverse(string):\n",
    "    print(string[::-1])\n",
    "string=input()\n",
    "reverse(string)"
   ]
  },
  {
   "cell_type": "code",
   "execution_count": 6,
   "metadata": {},
   "outputs": [
    {
     "name": "stdout",
     "output_type": "stream",
     "text": [
      "king\n",
      "Not a palindrome\n"
     ]
    }
   ],
   "source": [
    "# string palindrome\n",
    "def reverse(string):\n",
    "    return string[::-1]\n",
    "string=input()\n",
    "res=reverse(string) \n",
    "if res==string:\n",
    "    print(\"Palindrome\")\n",
    "else:\n",
    "    print(\"Not a palindrome\")"
   ]
  },
  {
   "cell_type": "code",
   "execution_count": 7,
   "metadata": {},
   "outputs": [
    {
     "name": "stdout",
     "output_type": "stream",
     "text": [
      "4567\n",
      "4\n"
     ]
    }
   ],
   "source": [
    "# Count no of digits\n",
    "def digits(num):\n",
    "    count=0\n",
    "    while(num>0):\n",
    "        num=num//10\n",
    "        count+=1\n",
    "    return count\n",
    "number=int(input())\n",
    "res=digits(number)\n",
    "print(res)"
   ]
  },
  {
   "cell_type": "code",
   "execution_count": 10,
   "metadata": {},
   "outputs": [
    {
     "name": "stdout",
     "output_type": "stream",
     "text": [
      "Enter lower bound:1\n",
      "Enter upper bound:20\n",
      "6\n",
      "12\n",
      "18\n"
     ]
    }
   ],
   "source": [
    "# Function to print all numbers divisible by 6 and not a factor of 100 in a given range(lb,ub) inclusive\n",
    "def divisible(n1,n2):\n",
    "    s=0\n",
    "    avg=0\n",
    "    while(n1<=n2):\n",
    "        if n1 %6==0:\n",
    "            if n1%100!=0:\n",
    "                print(n1)\n",
    "        n1+=1\n",
    "num1=int(input(\"Enter lower bound:\"))\n",
    "num2=int(input(\"Enter upper bound:\"))\n",
    "divisible(num1,num2)"
   ]
  },
  {
   "cell_type": "code",
   "execution_count": 1,
   "metadata": {},
   "outputs": [
    {
     "name": "stdout",
     "output_type": "stream",
     "text": [
      "Enter lower bound:1\n",
      "Enter upper bound:5\n",
      "36.0\n"
     ]
    }
   ],
   "source": [
    "# Function to find the average of cubes of all the even numbers in a given range(lb,ub) inclusive\n",
    "def avg_cubes(n1,n2):\n",
    "    s=0\n",
    "    c=0\n",
    "    while(n1<=n2):\n",
    "        if n1%2==0:\n",
    "            s+= n1 **3\n",
    "            c+=1\n",
    "        n1+=1\n",
    "    avg=s/c\n",
    "    return avg\n",
    "lb=int(input(\"Enter lower bound:\"))\n",
    "ub=int(input(\"Enter upper bound:\"))\n",
    "res=avg_cubes(lb,ub)\n",
    "print(res)"
   ]
  },
  {
   "cell_type": "code",
   "execution_count": 2,
   "metadata": {},
   "outputs": [
    {
     "name": "stdout",
     "output_type": "stream",
     "text": [
      "Enter any number:6\n",
      "1\n",
      "2\n",
      "3\n",
      "6\n"
     ]
    }
   ],
   "source": [
    "#Function to generate the list of factors for a given number\n",
    "def factors(num):\n",
    "    i=1\n",
    "    while(i<=num):\n",
    "        if num %i==0:\n",
    "            print(i)\n",
    "        i+=1\n",
    "number=int(input(\"Enter any number:\"))\n",
    "factors(number)"
   ]
  },
  {
   "cell_type": "code",
   "execution_count": 6,
   "metadata": {},
   "outputs": [
    {
     "name": "stdout",
     "output_type": "stream",
     "text": [
      "Enter any number:6\n",
      "720\n"
     ]
    }
   ],
   "source": [
    "# Function to calculate the factorial of a given number\n",
    "def factorial(num):\n",
    "    s=1\n",
    "    while(num>=1):\n",
    "        s*=num\n",
    "        num-=1\n",
    "    print(s)\n",
    "number=int(input(\"Enter any number:\"))\n",
    "factorial(number)"
   ]
  },
  {
   "cell_type": "code",
   "execution_count": 10,
   "metadata": {},
   "outputs": [
    {
     "name": "stdout",
     "output_type": "stream",
     "text": [
      "Enter any number:60\n",
      "NOt prime\n"
     ]
    }
   ],
   "source": [
    "#Function to check if a given number is Prime by using recursive function\n",
    "def prime(num,i):\n",
    "    if(i==num):\n",
    "        return 1\n",
    "    else:\n",
    "        if num%i==0:\n",
    "            return False\n",
    "        else:\n",
    "            return 0+prime(num,i+1)\n",
    "        \n",
    "        \n",
    "number=int(input(\"Enter any number:\"))\n",
    "res=prime(number,2)\n",
    "if res==1:\n",
    "    print(\"Prime\")\n",
    "else:\n",
    "    print(\"NOt prime\")"
   ]
  },
  {
   "cell_type": "code",
   "execution_count": 1,
   "metadata": {},
   "outputs": [
    {
     "name": "stdout",
     "output_type": "stream",
     "text": [
      "Enter any number:2020\n",
      "Leap year\n"
     ]
    }
   ],
   "source": [
    "# Function to check if a given year is a leap year\n",
    "def leap(year):\n",
    "    if(year%400==0):\n",
    "        print(\"Leap year\")\n",
    "    else:\n",
    "        if(year%4==0 and year%100!=0):\n",
    "            print(\"Leap year\")\n",
    "        else:\n",
    "            print(\"Not Leap year\")\n",
    "year=int(input(\"Enter any number:\"))\n",
    "leap(year)"
   ]
  },
  {
   "cell_type": "code",
   "execution_count": 2,
   "metadata": {},
   "outputs": [
    {
     "name": "stdout",
     "output_type": "stream",
     "text": [
      "Enter any number:9\n",
      "Enter any number:3\n",
      "Enter any number:67\n",
      "Enter any number:12\n",
      "C is Greatest\n"
     ]
    }
   ],
   "source": [
    "# Function to identify the greatest of 4 numbers\n",
    "def greatest(a,b,c,d):\n",
    "    if a>b and a>c and a>d:\n",
    "        print(\"A is greatest\")\n",
    "    elif b>c and b>d:\n",
    "        print(\"B is greatest\")\n",
    "    elif c>d:\n",
    "        print(\"C is Greatest\")\n",
    "    else:\n",
    "        print(\"D is Greatest\")\n",
    "a=int(input(\"Enter any number:\"))\n",
    "b=int(input(\"Enter any number:\"))\n",
    "c=int(input(\"Enter any number:\"))\n",
    "d=int(input(\"Enter any number:\"))\n",
    "greatest(a,b,c,d)"
   ]
  },
  {
   "cell_type": "code",
   "execution_count": null,
   "metadata": {},
   "outputs": [],
   "source": [
    "#Function to calculate the average first N Prime numbers  by using recursive function\n",
    "def prime(num,i):\n",
    "    if(i==num):\n",
    "        return 1\n",
    "    else:\n",
    "        if num%i==0:\n",
    "            return False\n",
    "        else:\n",
    "            return 0+ prime(num,i+1)\n",
    "        \n",
    "        \n",
    "number=int(input(\"Enter any number:\"))\n",
    "for i in range(2,number):\n",
    "    res=prime(i,2)\n",
    "    if res==1:\n",
    "        print(i,\"Prime\")"
   ]
  },
  {
   "cell_type": "code",
   "execution_count": 5,
   "metadata": {},
   "outputs": [
    {
     "name": "stdout",
     "output_type": "stream",
     "text": [
      "Enter any number:1000\n",
      "6 perfect number\n",
      "28 perfect number\n",
      "496 perfect number\n"
     ]
    }
   ],
   "source": [
    "#Function to generate all Perfect numbers in a given range  by using recursive function\n",
    "def isperfect(num,i):\n",
    "    if i==1 :\n",
    "        return 1\n",
    "    else:\n",
    "        if num%i==0:\n",
    "            return i+ isperfect(num,i-1)\n",
    "        else:\n",
    "            return 0+isperfect(num,i-1)\n",
    "number=int(input(\"Enter any number:\"))\n",
    "for i in range(2,number):\n",
    "    res=isperfect(i,i-1)\n",
    "    if res==i:\n",
    "        print(i,\"perfect number\")"
   ]
  },
  {
   "cell_type": "code",
   "execution_count": 8,
   "metadata": {},
   "outputs": [
    {
     "name": "stdout",
     "output_type": "stream",
     "text": [
      "Enter any lower bound:1\n",
      "Enter any upper bound:10\n",
      "1 1\n",
      "2 2\n",
      "3 6\n",
      "4 24\n",
      "5 120\n",
      "6 720\n",
      "7 5040\n",
      "8 40320\n",
      "9 362880\n"
     ]
    }
   ],
   "source": [
    "#Function to calculate the average of all factorials in a given range\n",
    "def factorial(num):\n",
    "    s=1\n",
    "    while(num>=1):\n",
    "        s*=num\n",
    "        num-=1\n",
    "    return s\n",
    "lb=int(input(\"Enter any lower bound:\"))\n",
    "ub=int(input(\"Enter any upper bound:\"))\n",
    "for i in range(lb,ub):\n",
    "    res=factorial(i)\n",
    "    print(i,res)"
   ]
  },
  {
   "cell_type": "code",
   "execution_count": 14,
   "metadata": {},
   "outputs": [
    {
     "name": "stdout",
     "output_type": "stream",
     "text": [
      "Enter any number: 1000\n",
      "1\n",
      "3\n",
      "5\n",
      "7\n",
      "9\n",
      "153\n",
      "371\n",
      "407\n"
     ]
    }
   ],
   "source": [
    "#Function to generate N odd armstrong numbers\n",
    "def digits(num):\n",
    "    count=0\n",
    "    while(num>0):\n",
    "        num=num//10\n",
    "        count+=1\n",
    "    return count\n",
    "def amstr(num,dgt_cnt):\n",
    "    s=0\n",
    "    while(num>0):\n",
    "        r=num%10\n",
    "        s+=r**dgt_cnt\n",
    "        num=num//10\n",
    "    return s\n",
    "number=int(input(\"Enter any number: \"))\n",
    "for i in range(1,number):\n",
    "    count=digits(i)\n",
    "    res=amstr(i,count)\n",
    "    if res==i and i%2!=0:\n",
    "        print(i)"
   ]
  },
  {
   "cell_type": "code",
   "execution_count": 18,
   "metadata": {},
   "outputs": [
    {
     "name": "stdout",
     "output_type": "stream",
     "text": [
      "Enter any number:10\n",
      "Enter lower bound:1\n",
      "Enter upper bound:5\n",
      "10 X 1 = 10\n",
      "10 X 2 = 20\n",
      "10 X 3 = 30\n",
      "10 X 4 = 40\n",
      "10 X 5 = 50\n"
     ]
    }
   ],
   "source": [
    "#Function to generate Multiplication table for a number in a given range\n",
    "#10 in the range(100, 102) inclusive\n",
    "#10 x 100 = 1000\n",
    "#10 x 101 = 1010\n",
    "#10 x 102 = 1020\n",
    "def table(num,lb,ub):\n",
    "    while(lb<=ub):\n",
    "        print(num,\"X\",lb,\"=\",num*lb)\n",
    "        lb+=1\n",
    "num=int(input(\"Enter any number:\"))\n",
    "lb=int(input(\"Enter lower bound:\"))\n",
    "ub=int(input(\"Enter upper bound:\"))\n",
    "table(num,lb,ub)"
   ]
  },
  {
   "cell_type": "code",
   "execution_count": null,
   "metadata": {},
   "outputs": [],
   "source": []
  }
 ],
 "metadata": {
  "kernelspec": {
   "display_name": "Python 3",
   "language": "python",
   "name": "python3"
  },
  "language_info": {
   "codemirror_mode": {
    "name": "ipython",
    "version": 3
   },
   "file_extension": ".py",
   "mimetype": "text/x-python",
   "name": "python",
   "nbconvert_exporter": "python",
   "pygments_lexer": "ipython3",
   "version": "3.7.1"
  }
 },
 "nbformat": 4,
 "nbformat_minor": 2
}
