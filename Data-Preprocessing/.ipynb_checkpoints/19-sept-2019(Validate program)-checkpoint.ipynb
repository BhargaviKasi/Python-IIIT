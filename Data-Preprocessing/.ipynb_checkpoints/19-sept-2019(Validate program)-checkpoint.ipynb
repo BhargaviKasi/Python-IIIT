{
 "cells": [
  {
   "cell_type": "code",
   "execution_count": 1,
   "metadata": {},
   "outputs": [
    {
     "name": "stdout",
     "output_type": "stream",
     "text": [
      "Bhargavi Contact added\n"
     ]
    }
   ],
   "source": [
    "# Function to add contacts in a contacts text file\n",
    "from validator import phoneNumValidator as pnv,MailValidator as mv\n",
    "# function for adding new contacts\n",
    "def addContact(name,ph,email):\n",
    "    if not checkContactExist(name):\n",
    "        if pnv(ph) and mv(email):\n",
    "            with open(\"contacts.txt\",\"a\") as f:\n",
    "                line=name+' '+str(ph)+' '+email+'\\n'\n",
    "                f.write(line)\n",
    "            print(name,\"Contact added\")\n",
    "        else:\n",
    "            print(\"Phone number or EmailId invalid\")\n",
    "            return \n",
    "    else:\n",
    "        print(\"Already Existed\")\n",
    "    return \n",
    "\n",
    "\n",
    "import re\n",
    "# check given contact is already exist or not\n",
    "def checkContactExist(name):\n",
    "    with open(\"contacts.txt\",\"r\") as f:\n",
    "        filedata=f.read()\n",
    "    return re.search(name,filedata)\n",
    "\n",
    "addContact('Bhargavi','8074829453','bhargavikasii@gmail.com')"
   ]
  },
  {
   "cell_type": "code",
   "execution_count": null,
   "metadata": {},
   "outputs": [],
   "source": []
  }
 ],
 "metadata": {
  "kernelspec": {
   "display_name": "Python 3",
   "language": "python",
   "name": "python3"
  },
  "language_info": {
   "codemirror_mode": {
    "name": "ipython",
    "version": 3
   },
   "file_extension": ".py",
   "mimetype": "text/x-python",
   "name": "python",
   "nbconvert_exporter": "python",
   "pygments_lexer": "ipython3",
   "version": "3.7.1"
  }
 },
 "nbformat": 4,
 "nbformat_minor": 2
}
