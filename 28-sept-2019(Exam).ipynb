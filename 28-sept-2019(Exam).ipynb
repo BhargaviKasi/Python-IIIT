{
 "cells": [
  {
   "cell_type": "code",
   "execution_count": 11,
   "metadata": {},
   "outputs": [
    {
     "name": "stdout",
     "output_type": "stream",
     "text": [
      "ball\n"
     ]
    }
   ],
   "source": [
    "import re\n",
    "Text=\"ball hit BALL, Hit case! hi this, is a program\"\n",
    "Text_mod=re.sub(\"[?.\"\"!,]\",\"\",Text)\n",
    "list1=[i.lower() for i in Text_mod.split()]\n",
    "dict1={}\n",
    "for i in list1:\n",
    "    if i not in dict1:\n",
    "        dict1[i]=1\n",
    "    else:\n",
    "        dict1[i]+=1\n",
    "list2=dict1.values()\n",
    "ele=max(list2)\n",
    "list1=[]\n",
    "for i in dict1.keys(): \n",
    "    if dict1[i]==ele:\n",
    "        list1.append(i)\n",
    "list1.sort()\n",
    "print(list1[0])"
   ]
  },
  {
   "cell_type": "code",
   "execution_count": 2,
   "metadata": {},
   "outputs": [
    {
     "name": "stdout",
     "output_type": "stream",
     "text": [
      "32\n",
      "11\n",
      "76\n",
      "83\n",
      "EXIT\n",
      "36\n",
      "32 76 \n",
      "76\n"
     ]
    }
   ],
   "source": [
    "list1=[]\n",
    "max=0\n",
    "for i in range(0,6):\n",
    "    list1.append(input())\n",
    "for i in list1:\n",
    "    if i==\"EXIT\":\n",
    "        break\n",
    "    else:\n",
    "        i=int(i)\n",
    "        if i%2==0:\n",
    "            print(i,end=\" \")\n",
    "            if i>max:\n",
    "                max=i\n",
    "print(\"\")\n",
    "print(max)\n",
    "        "
   ]
  },
  {
   "cell_type": "code",
   "execution_count": 3,
   "metadata": {},
   "outputs": [
    {
     "name": "stdout",
     "output_type": "stream",
     "text": [
      "22 13 34 3\n",
      "VaAE\n"
     ]
    }
   ],
   "source": [
    "key={13:'a',12:'b',9:'c',34:'A',32:'G',3:'E',7:'H',8:'B',1:'Z',2:'Q',22:'V',18:'r'}\n",
    "msg=list(map(int,input().split()))\n",
    "encrypt=\"\"\n",
    "for i in msg:\n",
    "    encrypt+=key[i]\n",
    "print(encrypt)"
   ]
  },
  {
   "cell_type": "code",
   "execution_count": null,
   "metadata": {},
   "outputs": [],
   "source": []
  }
 ],
 "metadata": {
  "kernelspec": {
   "display_name": "Python 3",
   "language": "python",
   "name": "python3"
  },
  "language_info": {
   "codemirror_mode": {
    "name": "ipython",
    "version": 3
   },
   "file_extension": ".py",
   "mimetype": "text/x-python",
   "name": "python",
   "nbconvert_exporter": "python",
   "pygments_lexer": "ipython3",
   "version": "3.7.1"
  }
 },
 "nbformat": 4,
 "nbformat_minor": 2
}
